{
 "cells": [
  {
   "cell_type": "code",
   "execution_count": 1,
   "id": "7dc5ad03-8f2e-4319-8ce0-dbe770c7f4b1",
   "metadata": {},
   "outputs": [],
   "source": [
    "# project: p2\n",
    "# submitter: mchoi82\n",
    "# partner: none\n",
    "# hours: 20"
   ]
  },
  {
   "cell_type": "code",
   "execution_count": 2,
   "id": "192f7713-a573-410d-ba5f-1f804cafc6e3",
   "metadata": {},
   "outputs": [],
   "source": [
    "import loans\n",
    "from zipfile import ZipFile\n",
    "from io import TextIOWrapper\n",
    "from time import time\n",
    "import matplotlib.pyplot as plt"
   ]
  },
  {
   "cell_type": "code",
   "execution_count": 3,
   "id": "b19bc8a9-9f5d-4472-be0f-aad33f2b022b",
   "metadata": {},
   "outputs": [
    {
     "data": {
      "text/plain": [
       "{'American Indian or Alaska Native', 'Asian', 'Black or African American'}"
      ]
     },
     "execution_count": 3,
     "metadata": {},
     "output_type": "execute_result"
    }
   ],
   "source": [
    "applicant = loans.Applicant(\"20-30\", [\"1\", \"2\", \"3\"])\n",
    "applicant.race"
   ]
  },
  {
   "cell_type": "code",
   "execution_count": 4,
   "id": "6f07a784-b224-43d8-938a-0742cb9cf120",
   "metadata": {},
   "outputs": [
    {
     "name": "stdout",
     "output_type": "stream",
     "text": [
      "Applicant('20-30', ['American Indian or Alaska Native', 'Asian', 'Black or African American'])\n"
     ]
    }
   ],
   "source": [
    "print(repr(applicant))"
   ]
  },
  {
   "cell_type": "code",
   "execution_count": 5,
   "id": "952d0586-a40e-4d41-bdec-598f9262036e",
   "metadata": {},
   "outputs": [
    {
     "data": {
      "text/plain": [
       "20"
      ]
     },
     "execution_count": 5,
     "metadata": {},
     "output_type": "execute_result"
    }
   ],
   "source": [
    "applicant.lower_age()\n"
   ]
  },
  {
   "cell_type": "code",
   "execution_count": 6,
   "id": "ee00d3bf-1870-4fec-83da-af66bfd10ed2",
   "metadata": {},
   "outputs": [
    {
     "data": {
      "text/plain": [
       "[Applicant('20-30', ['American Indian or Alaska Native', 'Black or African American']),\n",
       " Applicant('<25', ['White']),\n",
       " Applicant('35-44', ['Chinese']),\n",
       " Applicant('>75', ['Other Pacific Islander', 'Samoan'])]"
      ]
     },
     "execution_count": 6,
     "metadata": {},
     "output_type": "execute_result"
    }
   ],
   "source": [
    "sorted([\n",
    "    loans.Applicant(\">75\", [\"43\", \"44\"]),\n",
    "    loans.Applicant(\"20-30\", [\"1\", \"3\"]),\n",
    "    loans.Applicant(\"35-44\", [\"22\"]),\n",
    "    loans.Applicant(\"<25\", [\"5\"]),\n",
    "])"
   ]
  },
  {
   "cell_type": "code",
   "execution_count": 7,
   "id": "06ce1d0d-df2b-487d-bd87-29b15d8af7f4",
   "metadata": {},
   "outputs": [],
   "source": [
    "values = {'activity_year': '2020', 'lei': '549300FX7K8PTEQUU487', 'derived_msa-md': '31540', 'state_code': 'WI',\n",
    "         'county_code': '55025', 'census_tract': '55025002402', 'conforming_loan_limit': 'C',\n",
    "         'derived_loan_product_type': 'Conventional:First Lien',\n",
    "         'derived_dwelling_category': 'Single Family (1-4 Units):Site-Built',\n",
    "         'derived_ethnicity': 'Not Hispanic or Latino', 'derived_race': 'White', 'derived_sex': 'Male',\n",
    "         'action_taken': '3', 'purchaser_type': '0', 'preapproval': '2', 'loan_type': '1', 'loan_purpose': '4',\n",
    "         'lien_status': '1', 'reverse_mortgage': '2', 'open-end_line_of_credit': '1',\n",
    "         'business_or_commercial_purpose': '2', 'loan_amount': '225000.0', 'loan_to_value_ratio': '78.671',\n",
    "         'interest_rate': '3.000', 'rate_spread': 'NA', 'hoepa_status': '3', 'total_loan_costs': 'NA',\n",
    "         'total_points_and_fees': 'NA', 'origination_charges': 'NA', 'discount_points': 'NA',\n",
    "         'lender_credits': 'NA', 'loan_term': '360', 'prepayment_penalty_term': 'NA', 'intro_rate_period': '1',\n",
    "         'negative_amortization': '2', 'interest_only_payment': '2', 'balloon_payment': '2',\n",
    "         'other_nonamortizing_features': '2', 'property_value': '285000', 'construction_method': '1',\n",
    "         'occupancy_type': '1', 'manufactured_home_secured_property_type': '3',\n",
    "         'manufactured_home_land_property_interest': '5', 'total_units': '1', 'multifamily_affordable_units': 'NA',\n",
    "         'income': '0', 'debt_to_income_ratio': '>60%', 'applicant_credit_score_type': '1',\n",
    "         'co-applicant_credit_score_type': '10', 'applicant_ethnicity-1': '2', 'applicant_ethnicity-2': '',\n",
    "         'applicant_ethnicity-3': '', 'applicant_ethnicity-4': '', 'applicant_ethnicity-5': '',\n",
    "         'co-applicant_ethnicity-1': '5', 'co-applicant_ethnicity-2': '', 'co-applicant_ethnicity-3': '',\n",
    "         'co-applicant_ethnicity-4': '', 'co-applicant_ethnicity-5': '', 'applicant_ethnicity_observed': '2',\n",
    "         'co-applicant_ethnicity_observed': '4', 'applicant_race-1': '5', 'applicant_race-2': '',\n",
    "         'applicant_race-3': '', 'applicant_race-4': '', 'applicant_race-5': '', 'co-applicant_race-1': '8',\n",
    "         'co-applicant_race-2': '', 'co-applicant_race-3': '', 'co-applicant_race-4': '', 'co-applicant_race-5': '',\n",
    "         'applicant_race_observed': '2', 'co-applicant_race_observed': '4', 'applicant_sex': '1',\n",
    "         'co-applicant_sex': '5', 'applicant_sex_observed': '2', 'co-applicant_sex_observed': '4',\n",
    "         'applicant_age': '55-64', 'co-applicant_age': '9999', 'applicant_age_above_62': 'Yes',\n",
    "         'co-applicant_age_above_62': 'NA', 'submission_of_application': '1', 'initially_payable_to_institution': '1',\n",
    "         'aus-1': '6', 'aus-2': '', 'aus-3': '', 'aus-4': '', 'aus-5': '', 'denial_reason-1': '1',\n",
    "         'denial_reason-2': '', 'denial_reason-3': '', 'denial_reason-4': '', 'tract_population': '3572',\n",
    "         'tract_minority_population_percent': '41.1499999999999986', 'ffiec_msa_md_median_family_income': '96600',\n",
    "         'tract_to_msa_income_percentage': '64', 'tract_owner_occupied_units': '812',\n",
    "         'tract_one_to_four_family_homes': '910', 'tract_median_age_of_housing_units': '45'}"
   ]
  },
  {
   "cell_type": "code",
   "execution_count": 8,
   "id": "eeefbf09-a3d0-47a6-9e9d-ccd8049242c9",
   "metadata": {},
   "outputs": [
    {
     "data": {
      "text/plain": [
       "3.0"
      ]
     },
     "execution_count": 8,
     "metadata": {},
     "output_type": "execute_result"
    }
   ],
   "source": [
    "loan = loans.Loan(values)\n",
    "loan.interest_rate"
   ]
  },
  {
   "cell_type": "code",
   "execution_count": 9,
   "id": "63cbd953-ecc9-481e-b876-1df1330e18b3",
   "metadata": {},
   "outputs": [
    {
     "data": {
      "text/plain": [
       "[Applicant('55-64', ['White'])]"
      ]
     },
     "execution_count": 9,
     "metadata": {},
     "output_type": "execute_result"
    }
   ],
   "source": [
    "loan.applicants\n",
    "#should be [Applicant('55-64', ['White'])]"
   ]
  },
  {
   "cell_type": "code",
   "execution_count": 10,
   "id": "e3d8b54a-b978-4568-907e-6ca3a40f0fec",
   "metadata": {},
   "outputs": [
    {
     "name": "stdout",
     "output_type": "stream",
     "text": [
      "<Loan: 3.0% on $285000.0 with 1 applicant(s)>\n"
     ]
    }
   ],
   "source": [
    "print(loan)"
   ]
  },
  {
   "cell_type": "code",
   "execution_count": 11,
   "id": "489b2405-e592-465f-9291-63ff6af23996",
   "metadata": {},
   "outputs": [
    {
     "name": "stdout",
     "output_type": "stream",
     "text": [
      "225000.0\n",
      "211750.0\n",
      "198102.5\n",
      "184045.575\n",
      "169566.94225000002\n",
      "154653.95051750002\n",
      "139293.56903302504\n",
      "123472.3761040158\n",
      "107176.54738713628\n",
      "90391.84380875036\n",
      "73103.59912301287\n",
      "55296.70709670326\n",
      "36955.60830960436\n",
      "18064.27655889249\n"
     ]
    }
   ],
   "source": [
    "for amt in loan.yearly_amounts(20000):\n",
    "    print(amt)"
   ]
  },
  {
   "cell_type": "code",
   "execution_count": 12,
   "id": "2f735ed1-9f84-421a-b72c-d1ae2c027244",
   "metadata": {},
   "outputs": [],
   "source": [
    "uwcu = loans.Bank(\"University of Wisconsin Credit Union\")"
   ]
  },
  {
   "cell_type": "code",
   "execution_count": 13,
   "id": "35c21789-ce33-4b6c-a848-2b60a6b0b3b8",
   "metadata": {},
   "outputs": [
    {
     "data": {
      "text/plain": [
       "'254900CN1DD55MJDFH69'"
      ]
     },
     "execution_count": 13,
     "metadata": {},
     "output_type": "execute_result"
    }
   ],
   "source": [
    "uwcu.lei"
   ]
  },
  {
   "cell_type": "code",
   "execution_count": 14,
   "id": "38d52e68-63f7-4179-82e7-cda7db918ddb",
   "metadata": {},
   "outputs": [
    {
     "data": {
      "text/plain": [
       "<Loan: 2.99% on $185000.0 with 2 applicant(s)>"
      ]
     },
     "execution_count": 14,
     "metadata": {},
     "output_type": "execute_result"
    }
   ],
   "source": [
    "uwcu[-1]"
   ]
  },
  {
   "cell_type": "code",
   "execution_count": 15,
   "id": "e1f9e6df-fc21-4a06-a981-f538536173e9",
   "metadata": {},
   "outputs": [
    {
     "data": {
      "text/plain": [
       "21153"
      ]
     },
     "execution_count": 15,
     "metadata": {},
     "output_type": "execute_result"
    }
   ],
   "source": [
    "len(uwcu)"
   ]
  },
  {
   "cell_type": "code",
   "execution_count": null,
   "id": "3ef761ce-d303-4933-9907-4c602f84e4e8",
   "metadata": {},
   "outputs": [],
   "source": []
  },
  {
   "cell_type": "code",
   "execution_count": 16,
   "id": "b10061f8-2da3-412c-ba3a-b1d019611501",
   "metadata": {},
   "outputs": [],
   "source": [
    "import module_tester\n"
   ]
  },
  {
   "cell_type": "code",
   "execution_count": 17,
   "id": "35f368ff-8bdf-41d3-871d-ecc8c327215c",
   "metadata": {},
   "outputs": [],
   "source": [
    "d = {\"loan_amount\": \"123\", \"property_value\": \"456\", \"interest_rate\": \"4.4\",\n",
    "         \"applicant_age\": \"20\", \"applicant_race-1\": \"41\", \"applicant_race-2\": \"\",\n",
    "         \"applicant_race-3\": \"\", \"applicant_race-4\": \"\", \"applicant_race-5\": \"\",\n",
    "         \"co-applicant_age\": \"9999\", \"co-applicant_race-1\": \"\", \"co-applicant_race-2\": \"\",\n",
    "         \"co-applicant_race-3\": \"\", \"co-applicant_race-4\": \"\", \"co-applicant_race-5\": \"\"}\n",
    "loan = loans.Loan(d)\n"
   ]
  },
  {
   "cell_type": "code",
   "execution_count": 18,
   "id": "34f114f3-1740-49b6-b2e1-288f3c305f29",
   "metadata": {},
   "outputs": [
    {
     "data": {
      "text/plain": [
       "1"
      ]
     },
     "execution_count": 18,
     "metadata": {},
     "output_type": "execute_result"
    }
   ],
   "source": [
    "len(loan.applicants)"
   ]
  },
  {
   "cell_type": "code",
   "execution_count": 19,
   "id": "d9d26cf1-d356-4894-a8a0-df1aed406dab",
   "metadata": {},
   "outputs": [],
   "source": [
    "# assert loans.Applicant(\"<25\", []).lower_age() == 25\n",
    "# assert loans.Applicant(\"20-30\", []).lower_age() == 20\n",
    "# assert loans.Applicant(\">75\", []).lower_age() == 75\n",
    "# loans_points += 1"
   ]
  },
  {
   "cell_type": "code",
   "execution_count": 20,
   "id": "4148a7fc-2dcb-4a34-805e-e29c6e87f073",
   "metadata": {},
   "outputs": [],
   "source": [
    "import search\n",
    "t = search.BST()\n",
    "t.add(\"B\", 3)\n",
    "assert len(t.root) == 1\n",
    "t.add(\"A\", 2)\n",
    "assert len(t.root) == 2\n",
    "t.add(\"C\", 1)\n",
    "assert len(t.root) == 3\n",
    "t.add(\"C\", 4)\n",
    "assert len(t.root) == 4"
   ]
  },
  {
   "cell_type": "code",
   "execution_count": 21,
   "id": "bffae38a-41f5-43a6-8655-24f4c59f20a4",
   "metadata": {},
   "outputs": [
    {
     "data": {
      "text/plain": [
       "[2]"
      ]
     },
     "execution_count": 21,
     "metadata": {},
     "output_type": "execute_result"
    }
   ],
   "source": [
    "import search\n",
    "#t = search.BST()\n",
    "t[\"A\"]"
   ]
  },
  {
   "cell_type": "code",
   "execution_count": 22,
   "id": "713c5255-a8d7-443f-a7c4-a099a9b0198a",
   "metadata": {},
   "outputs": [
    {
     "data": {
      "text/plain": [
       "-1.0"
      ]
     },
     "execution_count": 22,
     "metadata": {},
     "output_type": "execute_result"
    }
   ],
   "source": [
    "c = loans.Bank(\"First Home Bank\")\n",
    "c.loan[0].property_value"
   ]
  },
  {
   "cell_type": "code",
   "execution_count": 23,
   "id": "cd645702-f9e3-47c1-a330-d5bf1a7660f3",
   "metadata": {},
   "outputs": [
    {
     "data": {
      "text/plain": [
       "2.962962962962963"
      ]
     },
     "execution_count": 23,
     "metadata": {},
     "output_type": "execute_result"
    }
   ],
   "source": [
    "#q1\n",
    "c.loan[0].interest_rate\n",
    "length, tot = 0, 0\n",
    "for i in range(len(c.loan)):\n",
    "    if c.loan[i].interest_rate >=0:\n",
    "        length += 1\n",
    "        tot += c.loan[i].interest_rate\n",
    "average = tot / length\n",
    "average"
   ]
  },
  {
   "cell_type": "code",
   "execution_count": 24,
   "id": "4cef4654-dcf9-4567-8083-8fc8a289c138",
   "metadata": {},
   "outputs": [],
   "source": [
    "#c.loan"
   ]
  },
  {
   "cell_type": "code",
   "execution_count": 25,
   "id": "31df1c2a-6d63-414e-8552-0caed96e1385",
   "metadata": {},
   "outputs": [
    {
     "data": {
      "text/plain": [
       "1.5777777777777777"
      ]
     },
     "execution_count": 25,
     "metadata": {},
     "output_type": "execute_result"
    }
   ],
   "source": [
    "#q2\n",
    "length, tot = 0, 0\n",
    "for i in range(len(c.loan)):\n",
    "    if len(c.loan[i].applicants) >0:\n",
    "        length += 1\n",
    "        tot += len(c.loan[i].applicants)\n",
    "average_applicants = tot/length\n",
    "average_applicants"
   ]
  },
  {
   "cell_type": "code",
   "execution_count": 26,
   "id": "83a3d7bd-3fc0-4b57-8fb1-2cf984a138e5",
   "metadata": {},
   "outputs": [],
   "source": [
    "#c = loans.Bank(\"First Home Bank\")"
   ]
  },
  {
   "cell_type": "code",
   "execution_count": 27,
   "id": "fa67fa46-c7a4-42eb-b616-637930079e53",
   "metadata": {},
   "outputs": [
    {
     "data": {
      "text/plain": [
       "{'65-74': 21, '45-54': 21, '>74': 5, '25-34': 4, '35-44': 13, '55-64': 7}"
      ]
     },
     "execution_count": 27,
     "metadata": {},
     "output_type": "execute_result"
    }
   ],
   "source": [
    "#q3\n",
    "#a = loans.Loan(applicants)\n",
    "# loan = loans.Loan(values)\n",
    "# loan.applicants\n",
    "#c = loans.Bank(\"First Home Bank\")\n",
    "dic = {}\n",
    "for i in range(len(c.loan)):\n",
    "    for elem in c.loan[i].applicants:\n",
    "        if elem.age not in dic:\n",
    "            dic[elem.age] = 1\n",
    "        else:\n",
    "            dic[elem.age] += 1\n",
    "\n",
    "\n",
    "dic\n",
    "        "
   ]
  },
  {
   "cell_type": "code",
   "execution_count": 28,
   "id": "3170b341-d78a-49e5-b1f2-6f24ade9930b",
   "metadata": {},
   "outputs": [
    {
     "data": {
      "text/plain": [
       "18"
      ]
     },
     "execution_count": 28,
     "metadata": {},
     "output_type": "execute_result"
    }
   ],
   "source": [
    "#q4\n",
    "i =0\n",
    "bst = search.BST()\n",
    "for elem in c.loan:\n",
    "    bst.add(c.loan[i].interest_rate, elem)\n",
    "    i+= 1\n",
    "\n",
    "len(bst.root.lookup(-1))"
   ]
  },
  {
   "cell_type": "code",
   "execution_count": 29,
   "id": "52798f60-21ca-4ec9-a587-e2ceaf2fe283",
   "metadata": {},
   "outputs": [
    {
     "data": {
      "text/plain": [
       "9"
      ]
     },
     "execution_count": 29,
     "metadata": {},
     "output_type": "execute_result"
    }
   ],
   "source": [
    "#q5\n",
    "def height(curr):\n",
    "    if curr.left != None:\n",
    "        x = height(curr.left)\n",
    "    else:\n",
    "        x = 0\n",
    "    if curr.right != None:\n",
    "        y = height(curr.right)\n",
    "    else:\n",
    "        y = 0\n",
    "    return max(x,y) + 1\n",
    "\n",
    "height(bst.root)"
   ]
  },
  {
   "cell_type": "code",
   "execution_count": 30,
   "id": "8993f53b-2f50-469b-9ff3-43d05c6329dc",
   "metadata": {},
   "outputs": [
    {
     "data": {
      "image/png": "[encoded data removed]",
      "text/plain": [
       "<Figure size 640x480 with 1 Axes>"
      ]
     },
     "metadata": {},
     "output_type": "display_data"
    }
   ],
   "source": [
    "#q6\n",
    "uw = loans.Bank(\"University of Wisconsin Credit Union\")\n",
    "bst_uw = search.BST()\n",
    "i = 0\n",
    "time_lst = []\n",
    "num_loans = []\n",
    "\n",
    "start_uw = time()\n",
    "\n",
    "for elem in uw.loan:\n",
    "    bst_uw.add(uw.loan[i].interest_rate, elem)\n",
    "    end_uw = time()\n",
    "    time_lst.append(end_uw - start_uw)\n",
    "    i+= 1\n",
    "    num_loans.append(i)\n",
    "\n",
    "plt.plot(num_loans, time_lst)\n",
    "plt.xticks([])\n",
    "plt.yticks([])\n",
    "plt.show()"
   ]
  },
  {
   "cell_type": "code",
   "execution_count": 31,
   "id": "e1b6e35a-71cd-41f3-9347-3d6add946033",
   "metadata": {},
   "outputs": [
    {
     "data": {
      "image/png": "[encoded data removed]",
      "text/plain": [
       "<Figure size 640x480 with 1 Axes>"
      ]
     },
     "metadata": {},
     "output_type": "display_data"
    }
   ],
   "source": [
    "#q7\n",
    "\n",
    "result = []\n",
    "i = 0\n",
    "count = 0\n",
    "start_missing = time()\n",
    "for elem in uw.loan:\n",
    "    if uw.loan[i].interest_rate == -1:\n",
    "        count += 1\n",
    "        i+=1\n",
    "end_missing = time()\n",
    "\n",
    "result.append(end_missing - start_missing)\n",
    "\n",
    "time_start_len = time()\n",
    "len(bst_uw.root.lookup(-1))\n",
    "time_end_len = time()\n",
    "\n",
    "result.append(time_end_len - time_start_len)\n",
    "\n",
    "x = ['missing', 'find']\n",
    "\n",
    "plt.bar(x, result)\n",
    "plt.xticks([])\n",
    "plt.yticks([])\n",
    "plt.show()"
   ]
  },
  {
   "cell_type": "code",
   "execution_count": 32,
   "id": "0767513d-dd01-4565-8e9f-1738e6659887",
   "metadata": {},
   "outputs": [
    {
     "data": {
      "image/png": "[encoded data removed]",
      "text/plain": [
       "<Figure size 640x480 with 1 Axes>"
      ]
     },
     "metadata": {},
     "output_type": "display_data"
    }
   ],
   "source": [
    "#q8\n",
    "old = []\n",
    "for elem in uw.loan:\n",
    "    old.extend(elem.applicants)\n",
    "diction = {}\n",
    "for elem in old:\n",
    "    if len(list(elem.race)) not in diction:\n",
    "        diction[len(list(elem.race))] = 1\n",
    "    else:\n",
    "        diction[len(list(elem.race))] += 1\n",
    "        \n",
    "num_race = []\n",
    "num_applicant = []\n",
    "for key, item in diction.items():\n",
    "    num_race.append(key)\n",
    "    num_applicant.append(item)\n",
    "\n",
    "plt.bar(num_race, num_applicant)\n",
    "plt.xticks([])\n",
    "plt.yticks([])\n",
    "plt.show()"
   ]
  },
  {
   "cell_type": "code",
   "execution_count": 33,
   "id": "8b9fb2ad-ad54-454b-b987-99c96288d8c3",
   "metadata": {},
   "outputs": [
    {
     "data": {
      "text/plain": [
       "9"
      ]
     },
     "execution_count": 33,
     "metadata": {},
     "output_type": "execute_result"
    }
   ],
   "source": [
    "#q9\n",
    "\n",
    "def leaf(root):\n",
    "    if root is None:\n",
    "        return 0\n",
    "    if (root.left is None and root.right is None):\n",
    "        return 1\n",
    "    else:\n",
    "        return leaf(root.left) + leaf(root.right)\n",
    "    \n",
    "\n",
    "leaf(bst_uw.root)\n"
   ]
  },
  {
   "cell_type": "code",
   "execution_count": 34,
   "id": "f86874b9-5a65-41eb-ba4f-1521507eedde",
   "metadata": {},
   "outputs": [
    {
     "data": {
      "text/plain": [
       "6.99"
      ]
     },
     "execution_count": 34,
     "metadata": {},
     "output_type": "execute_result"
    }
   ],
   "source": [
    "#q10\n",
    "i = 0\n",
    "maxi = uw.loan[0].interest_rate\n",
    "mini = uw.loan[0].interest_rate\n",
    "lst = []\n",
    "for elem in uw.loan:\n",
    "    if elem.interest_rate > maxi:\n",
    "        maxi = elem.interest_rate\n",
    "lst.append(maxi)\n",
    "lst.append(mini)\n",
    "\n",
    "for elem in uw.loan:\n",
    "    if elem.interest_rate < maxi and elem.interest_rate > mini:\n",
    "        mini = elem.interest_rate\n",
    "lst[1] = mini\n",
    "lst[1]\n"
   ]
  },
  {
   "cell_type": "code",
   "execution_count": null,
   "id": "73944f79-44a1-4a1f-909d-378ce38cbe23",
   "metadata": {},
   "outputs": [],
   "source": []
  }
 ],
 "metadata": {
  "kernelspec": {
   "display_name": "Python 3 (ipykernel)",
   "language": "python",
   "name": "python3"
  },
  "language_info": {
   "codemirror_mode": {
    "name": "ipython",
    "version": 3
   },
   "file_extension": ".py",
   "mimetype": "text/x-python",
   "name": "python",
   "nbconvert_exporter": "python",
   "pygments_lexer": "ipython3",
   "version": "3.10.4"
  }
 },
 "nbformat": 4,
 "nbformat_minor": 5
}
