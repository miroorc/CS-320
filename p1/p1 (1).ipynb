{
 "cells": [
  {
   "cell_type": "code",
   "execution_count": 1,
   "id": "e9f3b18e-9f9b-47b8-a5ee-7b983028c30f",
   "metadata": {},
   "outputs": [],
   "source": [
    "#project: p1\n",
    "#submitter: mchoi82\n",
    "#partner: None\n",
    "#hours: 20"
   ]
  },
  {
   "cell_type": "code",
   "execution_count": 2,
   "id": "e2045d26-0c3c-471b-a573-d6e45141a6ad",
   "metadata": {},
   "outputs": [],
   "source": [
    "# Python Control Flow PART 1"
   ]
  },
  {
   "cell_type": "code",
   "execution_count": 3,
   "id": "708e0c96-b7fa-411b-a6a6-a7f450b999f9",
   "metadata": {},
   "outputs": [
    {
     "data": {
      "text/plain": [
       "float"
      ]
     },
     "execution_count": 3,
     "metadata": {},
     "output_type": "execute_result"
    }
   ],
   "source": [
    "#q1\n",
    "ans = type(7/2)\n",
    "ans"
   ]
  },
  {
   "cell_type": "code",
   "execution_count": 4,
   "id": "45312121-6109-4f41-bbca-96aec0b19abf",
   "metadata": {},
   "outputs": [
    {
     "data": {
      "text/plain": [
       "True"
      ]
     },
     "execution_count": 4,
     "metadata": {},
     "output_type": "execute_result"
    }
   ],
   "source": [
    "#q2\n",
    "x = 4\n",
    "maximum = 10\n",
    "minimum = 5\n",
    "error = False if minimum <= x <= maximum else True\n",
    "error"
   ]
  },
  {
   "cell_type": "code",
   "execution_count": 5,
   "id": "5244baa0-f748-4713-b783-853249d86daf",
   "metadata": {},
   "outputs": [
    {
     "data": {
      "text/plain": [
       "True"
      ]
     },
     "execution_count": 5,
     "metadata": {},
     "output_type": "execute_result"
    }
   ],
   "source": [
    "#q3\n",
    "word = \"KAFKAESQUE\"\n",
    "word = word.lower()\n",
    "if len(word) < 5:\n",
    "    ans = False\n",
    "elif word[len(word)-5:] == 'esque':\n",
    "    ans = True\n",
    "else:\n",
    "    ans = False\n",
    "suffix_match = ans\n",
    "suffix_match\n"
   ]
  },
  {
   "cell_type": "code",
   "execution_count": 6,
   "id": "c44c760a-4fdb-4e21-b264-dbd8bef067b9",
   "metadata": {},
   "outputs": [
    {
     "data": {
      "text/plain": [
       "7"
      ]
     },
     "execution_count": 6,
     "metadata": {},
     "output_type": "execute_result"
    }
   ],
   "source": [
    "#q4\n",
    "def add(n1 = 1, n2 = 1):\n",
    "    return n1+n2\n",
    "add(3,4)"
   ]
  },
  {
   "cell_type": "code",
   "execution_count": 7,
   "id": "ab9045c3-332e-48c3-a693-b517efc37b75",
   "metadata": {},
   "outputs": [
    {
     "data": {
      "text/plain": [
       "10"
      ]
     },
     "execution_count": 7,
     "metadata": {},
     "output_type": "execute_result"
    }
   ],
   "source": [
    "#q5\n",
    "add(9)"
   ]
  },
  {
   "cell_type": "code",
   "execution_count": 8,
   "id": "05dc6895-359b-48c7-8554-4f39f2acbc5a",
   "metadata": {},
   "outputs": [
    {
     "data": {
      "text/plain": [
       "'positive'"
      ]
     },
     "execution_count": 8,
     "metadata": {},
     "output_type": "execute_result"
    }
   ],
   "source": [
    "#q6\n",
    "x = 4\n",
    "if x < 0:\n",
    "    status = \"negative\"\n",
    "elif x > 0:\n",
    "    status = \"positive\"\n",
    "else:\n",
    "    status = \"zero\"\n",
    "status"
   ]
  },
  {
   "cell_type": "code",
   "execution_count": 9,
   "id": "f614edb1-7b90-4e5e-a1b0-8c0a686f85c4",
   "metadata": {},
   "outputs": [
    {
     "data": {
      "text/plain": [
       "14"
      ]
     },
     "execution_count": 9,
     "metadata": {},
     "output_type": "execute_result"
    }
   ],
   "source": [
    "#q7\n",
    "def smart_count(lst):\n",
    "    count = 0\n",
    "    for elem in lst:\n",
    "        if elem > 10:\n",
    "            continue\n",
    "        elif elem < 0:\n",
    "            break\n",
    "        else:\n",
    "            count += elem\n",
    "    return count\n",
    "nums = [3, 4, 1, 6]\n",
    "smart_count(nums)"
   ]
  },
  {
   "cell_type": "code",
   "execution_count": 10,
   "id": "707061a1-7dd7-47a5-8192-3d0e570e70cb",
   "metadata": {},
   "outputs": [
    {
     "data": {
      "text/plain": [
       "6"
      ]
     },
     "execution_count": 10,
     "metadata": {},
     "output_type": "execute_result"
    }
   ],
   "source": [
    "#q8\n",
    "smart_count([2, 1, 11, 3, 15, -1, 8, 2])"
   ]
  },
  {
   "cell_type": "code",
   "execution_count": 11,
   "id": "cf733bfa-3e97-46cb-a425-a2adfb4f3e3c",
   "metadata": {},
   "outputs": [],
   "source": [
    "# Python State Part 2"
   ]
  },
  {
   "cell_type": "code",
   "execution_count": 12,
   "id": "4a87ba09-d2c0-4b4f-abce-f02516db111f",
   "metadata": {},
   "outputs": [],
   "source": [
    "header = [\"A\", \"B\", \"C\"]\n",
    "\n",
    "coord1 = {\"x\": 8, \"y\": 5}\n",
    "coord2 = {\"x\": 9, \"y\": 2}\n",
    "coord3 = {\"x\": 3, \"y\": 1}\n",
    "\n",
    "rows = [\n",
    "    [1, 6, coord1],\n",
    "    [3, 4, coord2],\n",
    "    [5, 2, coord3],\n",
    "]"
   ]
  },
  {
   "cell_type": "code",
   "execution_count": 13,
   "id": "5ace1bd5-5746-47c8-a43e-ff3d1712671a",
   "metadata": {},
   "outputs": [
    {
     "data": {
      "text/plain": [
       "[[1, 6, {'x': 8, 'y': 5}],\n",
       " [3, 4, {'x': 9, 'y': 2}],\n",
       " [5, 2, {'x': 3, 'y': 1, 'z': 3.14}]]"
      ]
     },
     "execution_count": 13,
     "metadata": {},
     "output_type": "execute_result"
    }
   ],
   "source": [
    "#q9\n",
    "coord3[\"z\"] = 3.14\n",
    "rows"
   ]
  },
  {
   "cell_type": "code",
   "execution_count": 14,
   "id": "1c6a8e31-8646-4821-8006-183da24aa57b",
   "metadata": {},
   "outputs": [
    {
     "data": {
      "text/plain": [
       "8"
      ]
     },
     "execution_count": 14,
     "metadata": {},
     "output_type": "execute_result"
    }
   ],
   "source": [
    "#q10\n",
    "rows[0][-1]['x']"
   ]
  },
  {
   "cell_type": "code",
   "execution_count": 15,
   "id": "bce87660-bdbf-4932-b308-be814473110f",
   "metadata": {},
   "outputs": [
    {
     "data": {
      "text/plain": [
       "[[1, 6, {'x': 8, 'y': 5}],\n",
       " [3, 9999, {'x': 9, 'y': 2}],\n",
       " [5, 2, {'x': 3, 'y': 1, 'z': 3.14}]]"
      ]
     },
     "execution_count": 15,
     "metadata": {},
     "output_type": "execute_result"
    }
   ],
   "source": [
    "#q11\n",
    "import copy\n",
    "v2 = copy.deepcopy(rows)\n",
    "v2[0] = 8888 #first change\n",
    "v2 = copy.copy(rows)\n",
    "v2[1][1] = 9999 \n",
    "rows\n"
   ]
  },
  {
   "cell_type": "code",
   "execution_count": 16,
   "id": "45ac3d01-b2a3-44ec-9ede-83be5c7daf79",
   "metadata": {},
   "outputs": [
    {
     "data": {
      "text/plain": [
       "10007"
      ]
     },
     "execution_count": 16,
     "metadata": {},
     "output_type": "execute_result"
    }
   ],
   "source": [
    "#q12\n",
    "header.index('B')\n",
    "count = 0\n",
    "for i in range(3):\n",
    "    count += rows[i][header.index('B')]\n",
    "count"
   ]
  },
  {
   "cell_type": "code",
   "execution_count": 17,
   "id": "4cc3f2c4-afeb-40ba-af80-8b918183a04a",
   "metadata": {},
   "outputs": [
    {
     "name": "stdout",
     "output_type": "stream",
     "text": [
      "lookup A column for a row\n",
      "lookup A column for a row\n",
      "lookup A column for a row\n"
     ]
    },
    {
     "data": {
      "text/plain": [
       "[[5, 2, {'x': 3, 'y': 1, 'z': 3.14}],\n",
       " [1, 6, {'x': 8, 'y': 5}],\n",
       " [3, 9999, {'x': 9, 'y': 2}]]"
      ]
     },
     "execution_count": 17,
     "metadata": {},
     "output_type": "execute_result"
    }
   ],
   "source": [
    "#q13\n",
    "def get_column_b(row):\n",
    "    print(\"lookup A column for a row\")\n",
    "    return row[header.index(\"B\")]\n",
    "\n",
    "rows.sort(key=get_column_b, reverse=False) #descending: True, ascending: False\n",
    "rows"
   ]
  },
  {
   "cell_type": "code",
   "execution_count": 18,
   "id": "0ae59fbd-43b2-4651-b89a-20f6a879d395",
   "metadata": {},
   "outputs": [
    {
     "data": {
      "text/plain": [
       "401.36329745992"
      ]
     },
     "execution_count": 18,
     "metadata": {},
     "output_type": "execute_result"
    }
   ],
   "source": [
    "#q14\n",
    "import json\n",
    "f = open(\"usd.json\")\n",
    "data = json.load(f)\n",
    "f.close()\n",
    "#print(type(data))\n",
    "key = data['eur']\n",
    "currency = data['eur']['rate']\n",
    "ans = 400 * currency\n",
    "ans\n",
    "#print('key:',key)\n",
    "#print('data:', data)\n"
   ]
  },
  {
   "cell_type": "code",
   "execution_count": 19,
   "id": "5456bece-f813-471b-9726-8c40a4e00f91",
   "metadata": {},
   "outputs": [
    {
     "data": {
      "text/plain": [
       "1.5"
      ]
     },
     "execution_count": 19,
     "metadata": {},
     "output_type": "execute_result"
    }
   ],
   "source": [
    "#q15\n",
    "def divide(n1, n2):\n",
    "    try:\n",
    "        ans = n1/n2\n",
    "    except:\n",
    "        ans = float(\"nan\")\n",
    "    return ans\n",
    "divide(3,2)"
   ]
  },
  {
   "cell_type": "code",
   "execution_count": 20,
   "id": "6a5f4185-674d-4677-a727-342b6a621e55",
   "metadata": {},
   "outputs": [
    {
     "data": {
      "text/plain": [
       "nan"
      ]
     },
     "execution_count": 20,
     "metadata": {},
     "output_type": "execute_result"
    }
   ],
   "source": [
    "#q16\n",
    "divide(-3,0)"
   ]
  },
  {
   "cell_type": "code",
   "execution_count": 21,
   "id": "f2a6cbf2-b86d-450d-8047-8ead58d8e4dc",
   "metadata": {},
   "outputs": [],
   "source": [
    "#Python Data Science Part 3"
   ]
  },
  {
   "cell_type": "code",
   "execution_count": 22,
   "id": "45a476e0-b216-4a94-81fc-6f45c462de4c",
   "metadata": {},
   "outputs": [
    {
     "data": {
      "text/plain": [
       "[2013, 2014, 2015, 2016, 2017, 2018]"
      ]
     },
     "execution_count": 22,
     "metadata": {},
     "output_type": "execute_result"
    }
   ],
   "source": [
    "#q17\n",
    "import os\n",
    "import pandas as pd\n",
    "path = \"home-computers\"\n",
    "dirs = os.listdir(path)\n",
    "#cwd = os.getcwd()\n",
    "#print(cwd)\n",
    "dic = {}\n",
    "for elem in dirs:\n",
    "    #print(elem)\n",
    "    #print(elem[-4:])\n",
    "    if elem[-4:] != '.csv':\n",
    "        continue\n",
    "    else:\n",
    "        index = elem.find('.')\n",
    "        year = elem[index - 4 : index]\n",
    "        path_dataframe = pd.read_csv(path+'/'+elem, skiprows = 1)\n",
    "        path_dataframe = path_dataframe.set_index('Geographic Area Name')\n",
    "        dic[int(year)] = path_dataframe\n",
    "sorted(dic.keys())\n",
    "    "
   ]
  },
  {
   "cell_type": "code",
   "execution_count": 23,
   "id": "2758c4ea-55b3-45ca-ad7c-468e2e1573f7",
   "metadata": {},
   "outputs": [
    {
     "data": {
      "text/plain": [
       "2371960"
      ]
     },
     "execution_count": 23,
     "metadata": {},
     "output_type": "execute_result"
    }
   ],
   "source": [
    "#q18\n",
    "position = 'Wisconsin'\n",
    "label = 'Estimate!!Total'\n",
    "output = dic[2018].at[position, label]\n",
    "output"
   ]
  },
  {
   "cell_type": "code",
   "execution_count": 24,
   "id": "bff4c445-51fb-4159-a369-102c3dd9b27b",
   "metadata": {},
   "outputs": [
    {
     "data": {
      "text/plain": [
       "10285814"
      ]
     },
     "execution_count": 24,
     "metadata": {},
     "output_type": "execute_result"
    }
   ],
   "source": [
    "#q19\n",
    "count = 0\n",
    "for elem in dic[2018][\"Estimate!!Total!!No Computer\"]:\n",
    "    count += elem\n",
    "count"
   ]
  },
  {
   "cell_type": "code",
   "execution_count": 25,
   "id": "db1f00f6-e6fe-4b31-b418-3e70afe6bdae",
   "metadata": {},
   "outputs": [
    {
     "data": {
      "text/plain": [
       "0.12375641594322287"
      ]
     },
     "execution_count": 25,
     "metadata": {},
     "output_type": "execute_result"
    }
   ],
   "source": [
    "#q20\n",
    "access = dic[2018]\n",
    "margin = access['Margin of Error!!Total!!No Computer']\n",
    "estimate = access['Estimate!!Total!!No Computer']\n",
    "max(margin/estimate)"
   ]
  },
  {
   "cell_type": "code",
   "execution_count": 26,
   "id": "655d5857-b19c-41e9-8fc5-7452b9740064",
   "metadata": {},
   "outputs": [
    {
     "data": {
      "text/plain": [
       "{'Illinois': 8.524143737625552,\n",
       " 'Indiana': 9.463486214247707,\n",
       " 'Iowa': 9.468929459023103,\n",
       " 'Michigan': 8.936374942955922,\n",
       " 'Minnesota': 7.491847623005652,\n",
       " 'Wisconsin': 9.582497175331794}"
      ]
     },
     "execution_count": 26,
     "metadata": {},
     "output_type": "execute_result"
    }
   ],
   "source": [
    "#q21\n",
    "dic_1 = {}\n",
    "states = ['Illinois', 'Indiana', 'Iowa', 'Michigan', 'Minnesota', 'Wisconsin']\n",
    "label, label_no_comp = 'Estimate!!Total', 'Estimate!!Total!!No Computer'\n",
    "for elem in states:\n",
    "    dic_1[elem] = (access.at[elem, label_no_comp])/(access.at[elem, label]) * 100\n",
    "dic_1"
   ]
  },
  {
   "cell_type": "code",
   "execution_count": 27,
   "id": "1778cec7-6fc8-46ac-a3fa-007ee17a4ecc",
   "metadata": {},
   "outputs": [
    {
     "data": {
      "image/png": "[encoded data removed]",
      "text/plain": [
       "<Figure size 640x480 with 1 Axes>"
      ]
     },
     "metadata": {},
     "output_type": "display_data"
    }
   ],
   "source": [
    "#q22\n",
    "import matplotlib.pyplot as plt\n",
    "data = dic_1\n",
    "state = list(dic_1.keys())\n",
    "percent = list(dic_1.values())\n",
    "#fig = plt.figure(figsize = (10, 5))\n",
    "plt.bar(state, percent)\n",
    "plt.xlabel('Geographic Area Name')\n",
    "plt.ylabel('% of Households w/o Computers')\n",
    "plt.show()\n",
    "\n"
   ]
  },
  {
   "cell_type": "code",
   "execution_count": 28,
   "id": "2e28284b-76a2-45dd-be3f-05bdbc8dc7be",
   "metadata": {},
   "outputs": [
    {
     "data": {
      "image/png": "[encoded data removed]",
      "text/plain": [
       "<Figure size 640x480 with 1 Axes>"
      ]
     },
     "metadata": {},
     "output_type": "display_data"
    }
   ],
   "source": [
    "#q23\n",
    "no_comp_val = []\n",
    "position_1, label = 'Wisconsin', 'Estimate!!Total!!No Computer'\n",
    "output = dic[2013].at[position_1, label]\n",
    "no_comp_val.append(output)\n",
    "\n",
    "position_2, label = 'Wisconsin', 'Estimate!!Total!!No Computer'\n",
    "output = dic[2014].at[position_2, label]\n",
    "no_comp_val.append(output)\n",
    "\n",
    "\n",
    "position_3, label = 'Wisconsin', 'Estimate!!Total!!No Computer'\n",
    "output = dic[2015].at[position_3, label]\n",
    "no_comp_val.append(output)\n",
    "\n",
    "\n",
    "position_4, labe = 'Wisconsin', 'Estimate!!Total!!No Computer'\n",
    "output = dic[2016].at[position_4, label]\n",
    "no_comp_val.append(output)\n",
    "\n",
    "\n",
    "position_5, label = 'Wisconsin', 'Estimate!!Total!!No Computer'\n",
    "output = dic[2017].at[position_5, label]\n",
    "no_comp_val.append(output)\n",
    "\n",
    "\n",
    "position_6, label = 'Wisconsin', 'Estimate!!Total!!No Computer'\n",
    "output = dic[2018].at[position_6, label]\n",
    "no_comp_val.append(output)\n",
    "\n",
    "new_no_comp = []\n",
    "for elem in no_comp_val:\n",
    "    new_no_comp.append(int(elem / 1000))\n",
    "    \n",
    "\n",
    "year = [2013, 2014, 2015, 2016, 2017, 2018]\n",
    "\n",
    "\n",
    "plt.plot(year, new_no_comp)\n",
    "plt.xlabel('Year')\n",
    "plt.ylabel('WI Households without Computer (thousands)')\n",
    "plt.show()"
   ]
  },
  {
   "cell_type": "code",
   "execution_count": 29,
   "id": "970b1666-c4f1-4f0c-8884-214c0ea326d5",
   "metadata": {},
   "outputs": [
    {
     "data": {
      "image/png": "[encoded data removed]",
      "text/plain": [
       "<Figure size 640x480 with 1 Axes>"
      ]
     },
     "metadata": {},
     "output_type": "display_data"
    }
   ],
   "source": [
    "#q24\n",
    "smartphones = []\n",
    "tablets = []\n",
    "for elem in dic[2018][\"Estimate!!Total!!Has one or more types of computing devices!!Smartphone\"]:\n",
    "    smartphones.append(elem/1000000)\n",
    "for num in dic[2018][\"Estimate!!Total!!Has one or more types of computing devices!!Tablet or other portable wireless computer\"]:\n",
    "    tablets.append(num/1000000)\n",
    "plt.scatter(smartphones, tablets)\n",
    "plt.xlabel('Smartphones (millions)')\n",
    "plt.ylabel('Tablets (millions)')\n",
    "plt.show()"
   ]
  },
  {
   "cell_type": "code",
   "execution_count": 30,
   "id": "cb2b1971-8998-428d-9f25-fb6ed6a082f6",
   "metadata": {},
   "outputs": [
    {
     "name": "stderr",
     "output_type": "stream",
     "text": [
      "Already on 'main'\n"
     ]
    },
    {
     "data": {
      "text/plain": [
       "'commit 660994efc761efdfd49ca442b73f6712dc77b6cf'"
      ]
     },
     "execution_count": 30,
     "metadata": {},
     "output_type": "execute_result"
    }
   ],
   "source": [
    "#q25\n",
    "from subprocess import check_output\n",
    "check_output(['git', 'checkout', 'main'], cwd = 'flask')\n",
    "s = str(check_output(['git', 'log'], cwd = 'flask'),'utf-8')\n",
    "#print(s)\n",
    "s.strip().split('\\n')[0]\n"
   ]
  },
  {
   "cell_type": "code",
   "execution_count": 31,
   "id": "73e557e9-ebae-46ab-ad93-37c035ed0069",
   "metadata": {},
   "outputs": [
    {
     "data": {
      "text/plain": [
       "['7b5015010bc8c2a2d56c7c50b37e5b9facdad102',\n",
       " '40e0024d7b87150ed694829a5335bd2435962225',\n",
       " '6dd92ae4b32c336564231e10db12458a8b9261ca',\n",
       " '1246f4088a4fdc00a79f8029ff5d77bfe4fc9b14',\n",
       " 'c4f5c2fb9afc1679c085500830bd53fab93ad885',\n",
       " '1d8432ebfd1637eacab79a15e9b7963bf061371c',\n",
       " 'fc94599285aa1aec50b3c9426697249e55edda0a',\n",
       " 'c33675f0251071ea47ce166b81ce8c637842f091',\n",
       " '2d9bb692728fd76b19e467499caa4f5fcb07aede',\n",
       " 'ca520fb7e4c29afccc637e61c11429a0f3e8d5ad',\n",
       " '08f1f0dc32004fae01cf96d1eed84e6461e698e5',\n",
       " '8009bd986940378bba1399dbfce90d03e441467b',\n",
       " 'a42728568e18bedf588be2357b56021ab85b9fad',\n",
       " '959b5df00431c436474c5abca304e631c0de7721',\n",
       " '4affedec356ad8c9e6a107578f03fc7f5c615064',\n",
       " 'de03143f6ecf9a36dd32f16f07309c64d4de03b0',\n",
       " 'a01e8b49ca66608f0bd46134ff02deeb5724c799',\n",
       " '36071ca1f42a26ef327e9d14e4909a8c92cd4fae',\n",
       " '51c9829a9cdfa2bf301431f686d7a404cc7c5083',\n",
       " '2f5a4f8dbc832b0daebcd66ea8b3969589191fa7',\n",
       " '03148dba6b26a2694da1d466584f50189c52e7b3',\n",
       " 'ef524f2cfd65377b3b9ce896e7a710472b13c0f6',\n",
       " 'f2dc38cda61f76c64b97ab9f730accc986a4b188',\n",
       " '03168a5d53457fdb8676a4ac9fca0f76a23c6852',\n",
       " '0b8e01b4450d0ba8cb65751d866568fddc155fa4',\n",
       " '6a3a046f55755f0691568431e68a8bfea8d89df0',\n",
       " 'd78b04a3fca8d8887382606897d4a97e55062fda',\n",
       " '4671429a509094f36e2294055340197091d39979',\n",
       " '4e7aa9e7f7a86ee0ea4b6801694c13151518cb52',\n",
       " '85ca089dde8814c4a42ad4574cddce25d60e5e25',\n",
       " '8171da88a49eba769d313a51591ee8575be59762',\n",
       " 'df929c6c77ea5490a969275e45075c29711a498c',\n",
       " '574e81f9c8bbdc41958e1e7a7613633b091101f8',\n",
       " '1fff3e598126a084348ec2c112fdd3bc6b9a1ee0',\n",
       " '05f36c7f7e2df36ee28f90d99632162579b1287c',\n",
       " '4e1b3e1134eb478563bc434d794085d0a412cb84',\n",
       " '8e9bd5f009bb8756a2a7d76a4b792323eeee49d6',\n",
       " '9dfab582d065521e9350327801ed2c5ced1c8fa1',\n",
       " '3d719f35f5c1ee4ce3dc01fb2167ef49c0180cf6',\n",
       " '7d6b8e9ab3e738d69e39ad53a7c0f6a552d5284a',\n",
       " 'a9d4ea81da28ee9c894bf9d45adc4cfa9d52fddc',\n",
       " '727c701686c18c4a27ca523eb0c5862d497be24e',\n",
       " '4edec48b74dbb9d571e927b69b24c30ec0624975',\n",
       " '625eba4bb403296a8bbc1e72cc9cf4a5126f6c02',\n",
       " '4aa76212d1be9b17a57249549c2a73fb10b6cda8',\n",
       " '3b36bef2e6165bb4dad73d17f23ee1879e99f497',\n",
       " '44b42e0fbd93d86e0f4e929bda8e5fb63e81035d',\n",
       " '4ec7d2a0d8eac4f915dc0d38a886cd57045bb0c4',\n",
       " 'b15ad394279fc3b7f998fa56857f334a7c0156f6',\n",
       " '33850c0ebd23ae615e6823993d441f46d80b1ff0']"
      ]
     },
     "execution_count": 31,
     "metadata": {},
     "output_type": "execute_result"
    }
   ],
   "source": [
    "#q26\n",
    "log_lst = s.strip().split('\\n')\n",
    "lst = []\n",
    "for i in range(len(log_lst)-1, -1, -1):\n",
    "    if log_lst[i][:6] != 'commit':\n",
    "        continue\n",
    "    else:\n",
    "        lst.append(log_lst[i])\n",
    "        if len(lst) == 50:\n",
    "            break\n",
    "lst = lst[::-1]\n",
    "commit_num = []\n",
    "for elem in lst:\n",
    "    new = elem[7:]\n",
    "    commit_num.append(new)\n",
    "commit_num"
   ]
  },
  {
   "cell_type": "code",
   "execution_count": 32,
   "id": "458e3494-1f11-4c02-b035-ff3f4a6c077f",
   "metadata": {},
   "outputs": [
    {
     "name": "stderr",
     "output_type": "stream",
     "text": [
      "Note: switching to '4ec7d2a0d8eac4f915dc0d38a886cd57045bb0c4'.\n",
      "\n",
      "You are in 'detached HEAD' state. You can look around, make experimental\n",
      "changes and commit them, and you can discard any commits you make in this\n",
      "state without impacting any branches by switching back to a branch.\n",
      "\n",
      "If you want to create a new branch to retain commits you create, you may\n",
      "do so (now or later) by using -c with the switch command. Example:\n",
      "\n",
      "  git switch -c <new-branch-name>\n",
      "\n",
      "Or undo this operation with:\n",
      "\n",
      "  git switch -\n",
      "\n",
      "Turn off this advice by setting config variable advice.detachedHead to false\n",
      "\n",
      "HEAD is now at 4ec7d2a0 Started working on documentation.\n"
     ]
    },
    {
     "data": {
      "text/plain": [
       "\"\\n                        // Flask //\\n\\n     because a pocket knife is not the only thing that\\n                    might come in handy\\n\\n\\n    ~ What is Flask?\\n\\n      Flask is a microframework for Python based on Werkzeug\\n      and Jinja2.  It's intended for small scale applications\\n      and was development with best intentions in mind.\\n\\n   ~ Is it ready?\\n\\n      Nope, this is still work in progress, but I am happy to\\n      accept patches and improvements already.\\n\""
      ]
     },
     "execution_count": 32,
     "metadata": {},
     "output_type": "execute_result"
    }
   ],
   "source": [
    "#q27\n",
    "check_output(['git', 'checkout', commit_num[-3]], cwd = 'flask')\n",
    "f = open('flask/README')\n",
    "f.read()"
   ]
  },
  {
   "cell_type": "code",
   "execution_count": 33,
   "id": "f7ab2315-96c8-4cd7-91bf-e3b64d1a7100",
   "metadata": {},
   "outputs": [
    {
     "name": "stderr",
     "output_type": "stream",
     "text": [
      "Previous HEAD position was 4ec7d2a0 Started working on documentation.\n",
      "Switched to branch 'main'\n"
     ]
    },
    {
     "data": {
      "text/plain": [
       "{'pallets': 204,\n",
       " 'pgjones': 14,\n",
       " 'greyli': 42,\n",
       " 'ThiefMaster': 11,\n",
       " 'jeffwidman': 8,\n",
       " 'garenchan': 8,\n",
       " 'davidism': 45,\n",
       " 'dawran6': 7,\n",
       " 'untitaker': 20,\n",
       " 'lord63-forks': 5,\n",
       " 'methane': 5,\n",
       " 'Winnetou': 6,\n",
       " 'defuz': 6,\n",
       " 'ThomasWaldmann': 13,\n",
       " 'SimonSapin': 11}"
      ]
     },
     "execution_count": 33,
     "metadata": {},
     "output_type": "execute_result"
    }
   ],
   "source": [
    "#q28\n",
    "#s = str(check_output(['git', 'log'], cwd = 'flask'),'utf-8'\n",
    "\n",
    "#for elem in s:\n",
    "    #print(elem)\n",
    "#print(s)\n",
    "\n",
    "check_output(['git', 'checkout', 'main'], cwd = 'flask')\n",
    "s = str(check_output(['git', 'log'], cwd = 'flask'),'utf-8')\n",
    "#print(s)\n",
    "s = s.split(\"\\n\")\n",
    "#print(s)\n",
    "\n",
    "\n",
    "dic = {}\n",
    "new_dic = {}\n",
    "for i in range(len(s)):\n",
    "    if 'Merge pull' in s[i] and '/' in s[i]:\n",
    "        elem = s[i].split('/')[0]\n",
    "        elem_split = elem.split(' ')\n",
    "        name = elem_split[-1]\n",
    "        if name in dic:\n",
    "            dic[name] += 1\n",
    "        else:\n",
    "            dic[name] = 1\n",
    "    else:\n",
    "        continue\n",
    "for key, val in dic.items():\n",
    "    if val >= 5:\n",
    "        new_dic[key] = val\n",
    "new_dic\n",
    "\n",
    "\n"
   ]
  },
  {
   "cell_type": "code",
   "execution_count": 34,
   "id": "863707b7-36c6-4788-869f-2adfdcee83e5",
   "metadata": {},
   "outputs": [
    {
     "data": {
      "text/plain": [
       "'ERROR: unknown command \"instal\" - maybe you meant \"install\"\\n'"
      ]
     },
     "execution_count": 34,
     "metadata": {},
     "output_type": "execute_result"
    }
   ],
   "source": [
    "#q29\n",
    "#check_output([\"pip3\", \"instal\"])\n",
    "import subprocess\n",
    "\n",
    "try:\n",
    "    msg = str(check_output([\"pip3\", \"instal\"], stderr=subprocess.STDOUT), 'utf-8')\n",
    "except subprocess.CalledProcessError as e:\n",
    "    msg = str(e.output, 'utf-8')\n",
    "    \n",
    "msg"
   ]
  },
  {
   "cell_type": "code",
   "execution_count": 35,
   "id": "20e00ffe-0398-4508-ac4a-f55650542466",
   "metadata": {},
   "outputs": [
    {
     "data": {
      "text/plain": [
       "<AxesSubplot:xlabel='Rows', ylabel='Milliseconds'>"
      ]
     },
     "execution_count": 35,
     "metadata": {},
     "output_type": "execute_result"
    },
    {
     "data": {
      "image/png": "[encoded data removed]",
      "text/plain": [
       "<Figure size 640x480 with 1 Axes>"
      ]
     },
     "metadata": {},
     "output_type": "display_data"
    }
   ],
   "source": [
    "#q30\n",
    "import numpy as np\n",
    "from time import time\n",
    "def rand_df(rows):\n",
    "    return pd.DataFrame(np.random.randint(10, size=(rows, 4)),\n",
    "                        columns=[\"A\", \"B\", \"C\", \"D\"],\n",
    "                        index=[f\"r{i}\" for i in range(1, rows+1)])\n",
    "\n",
    "\n",
    "\n",
    "time_row = []\n",
    "time_tup = []\n",
    "for i in range(1000, 5001, 1000):\n",
    "    df = rand_df(i)\n",
    "    #print(df)\n",
    "    t0_row = time()\n",
    "    for row in df.iterrows():\n",
    "        pass\n",
    "    t1_row = time()\n",
    "\n",
    "    t0_tuples = time()\n",
    "    for tuples in df.itertuples():\n",
    "        pass\n",
    "    t1_tuples = time()\n",
    "    time_row.append((t1_row - t0_row)*1000)\n",
    "    time_tup.append((t1_tuples - t0_tuples)*1000)\n",
    "    \n",
    "    \n",
    "    \n",
    "    \n",
    "num_rows = []\n",
    "a = 0\n",
    "for i in range(5):\n",
    "    num_rows.append(1000 + a)\n",
    "    a += 1000\n",
    "    \n",
    "\n",
    "    \n",
    "times_df = pd.DataFrame(dtype=float)\n",
    "times_df.at[num_rows[0], \"iterrows\"] = time_row[0]\n",
    "times_df.at[num_rows[1], \"iterrows\"] = time_row[1]\n",
    "times_df.at[num_rows[2], \"iterrows\"] = time_row[2]\n",
    "times_df.at[num_rows[3], \"iterrows\"] = time_row[3]\n",
    "times_df.at[num_rows[4], \"iterrows\"] = time_row[4]\n",
    "\n",
    "\n",
    "times_df.at[num_rows[0], \"itertuples\"] = time_tup[0]\n",
    "times_df.at[num_rows[1], \"itertuples\"] = time_tup[1]\n",
    "times_df.at[num_rows[2], \"itertuples\"] = time_tup[2]\n",
    "times_df.at[num_rows[3], \"itertuples\"] = time_tup[3]\n",
    "times_df.at[num_rows[4], \"itertuples\"] = time_tup[4]\n",
    "\n",
    "\n",
    "times_df.plot.line(xlabel = 'Rows',ylabel = 'Milliseconds')"
   ]
  },
  {
   "cell_type": "code",
   "execution_count": 36,
   "id": "f863abb1-ec50-4df9-8890-e3db43ae9255",
   "metadata": {},
   "outputs": [
    {
     "data": {
      "text/plain": [
       "<AxesSubplot:xlabel='Rows', ylabel='Milliseconds'>"
      ]
     },
     "execution_count": 36,
     "metadata": {},
     "output_type": "execute_result"
    },
    {
     "data": {
      "image/png": "[encoded data removed]",
      "text/plain": [
       "<Figure size 640x480 with 1 Axes>"
      ]
     },
     "metadata": {},
     "output_type": "display_data"
    }
   ],
   "source": [
    "#q31\n",
    "time_loc = []\n",
    "time_at = []\n",
    "for i in range(1000, 5001, 1000):\n",
    "    df = rand_df(i)\n",
    "    #print(df)\n",
    "    t0_loc = time()\n",
    "    total_loc = 0\n",
    "    for idx in df.index:\n",
    "        for col in df.columns:\n",
    "            total_loc += df.loc[idx, col]\n",
    "    t1_loc = time()\n",
    "\n",
    "    \n",
    "    t0_at = time()\n",
    "    total_at = 0\n",
    "    for idx in df.index:\n",
    "        for col in df.columns:\n",
    "            total_at += df.at[idx, col]\n",
    "    t1_at = time()\n",
    "    time_loc.append((t1_loc - t0_loc)*1000)\n",
    "    time_at.append((t1_at - t0_at)*1000)\n",
    "    \n",
    "    \n",
    "    \n",
    "    \n",
    "num_rows = []\n",
    "a = 0\n",
    "for i in range(5):\n",
    "    num_rows.append(1000 + a)\n",
    "    a += 1000\n",
    "    \n",
    "\n",
    "    \n",
    "times_df = pd.DataFrame(dtype=float)\n",
    "times_df.at[num_rows[0], \"loc\"] = time_loc[0]\n",
    "times_df.at[num_rows[1], \"loc\"] = time_loc[1]\n",
    "times_df.at[num_rows[2], \"loc\"] = time_loc[2]\n",
    "times_df.at[num_rows[3], \"loc\"] = time_loc[3]\n",
    "times_df.at[num_rows[4], \"loc\"] = time_loc[4]\n",
    "\n",
    "\n",
    "times_df.at[num_rows[0], \"at\"] = time_at[0]\n",
    "times_df.at[num_rows[1], \"at\"] = time_at[1]\n",
    "times_df.at[num_rows[2], \"at\"] = time_at[2]\n",
    "times_df.at[num_rows[3], \"at\"] = time_at[3]\n",
    "times_df.at[num_rows[4], \"at\"] = time_at[4]\n",
    "\n",
    "\n",
    "times_df.plot.line(xlabel = 'Rows',ylabel = 'Milliseconds')"
   ]
  },
  {
   "cell_type": "code",
   "execution_count": 37,
   "id": "a540fddb-cc09-45e5-8e17-140a2de9a513",
   "metadata": {},
   "outputs": [
    {
     "name": "stdout",
     "output_type": "stream",
     "text": [
      "[1000, 5000, 10000, 15000, 20000]\n"
     ]
    },
    {
     "data": {
      "text/plain": [
       "<AxesSubplot:xlabel='Rows', ylabel='Milliseconds'>"
      ]
     },
     "execution_count": 37,
     "metadata": {},
     "output_type": "execute_result"
    },
    {
     "data": {
      "image/png": "[encoded data removed]",
      "text/plain": [
       "<Figure size 640x480 with 1 Axes>"
      ]
     },
     "metadata": {},
     "output_type": "display_data"
    }
   ],
   "source": [
    "#q32\n",
    "def laugh(x):\n",
    "    return \"ha\" * x\n",
    "\n",
    "\n",
    "\n",
    "time_apply = []\n",
    "time_append = []\n",
    "\n",
    "\n",
    "\n",
    "i_val = [1000]\n",
    "i = 0\n",
    "while i < 20000:\n",
    "    i += 5000\n",
    "    i_val.append(i)\n",
    "    #print(i_val)\n",
    "    \n",
    "for elem in i_val:\n",
    "    df = rand_df(elem)\n",
    "    #print(df)\n",
    "    t0_apply = time()\n",
    "    total_loc = 0\n",
    "    result = df[\"A\"].apply(laugh).tolist()\n",
    "    t1_apply = time()\n",
    "\n",
    "    \n",
    "    t0_append = time()\n",
    "    result = []\n",
    "    for val in df[\"A\"]:\n",
    "        result.append(laugh(val))\n",
    "    t1_append = time()\n",
    "    time_apply.append((t1_apply - t0_apply)*1000)\n",
    "    time_append.append((t1_append - t0_append)*1000)\n",
    "    \n",
    "    \n",
    "    \n",
    "    \n",
    "num_rows = [1000]\n",
    "a = 5000\n",
    "for i in range(4):\n",
    "    num_rows.append(a)\n",
    "    a += 5000\n",
    "print(num_rows)\n",
    "\n",
    "    \n",
    "times_df = pd.DataFrame(dtype=float)\n",
    "times_df.at[num_rows[0], \"apply\"] = time_apply[0]\n",
    "times_df.at[num_rows[1], \"apply\"] = time_apply[1]\n",
    "times_df.at[num_rows[2], \"apply\"] = time_apply[2]\n",
    "times_df.at[num_rows[3], \"apply\"] = time_apply[3]\n",
    "times_df.at[num_rows[4], \"apply\"] = time_apply[4]\n",
    "\n",
    "\n",
    "times_df.at[num_rows[0], \"append\"] = time_append[0]\n",
    "times_df.at[num_rows[1], \"append\"] = time_append[1]\n",
    "times_df.at[num_rows[2], \"append\"] = time_append[2]\n",
    "times_df.at[num_rows[3], \"append\"] = time_append[3]\n",
    "times_df.at[num_rows[4], \"append\"] = time_append[4]\n",
    "\n",
    "\n",
    "times_df.plot.line(xlabel = 'Rows',ylabel = 'Milliseconds')"
   ]
  },
  {
   "cell_type": "raw",
   "id": "640b7b1a-0e57-4da4-86b1-9597191cf809",
   "metadata": {},
   "source": []
  },
  {
   "cell_type": "code",
   "execution_count": null,
   "id": "bb5e4f4a-77cd-4909-b942-7940fb3ccafb",
   "metadata": {},
   "outputs": [],
   "source": []
  }
 ],
 "metadata": {
  "kernelspec": {
   "display_name": "Python 3 (ipykernel)",
   "language": "python",
   "name": "python3"
  },
  "language_info": {
   "codemirror_mode": {
    "name": "ipython",
    "version": 3
   },
   "file_extension": ".py",
   "mimetype": "text/x-python",
   "name": "python",
   "nbconvert_exporter": "python",
   "pygments_lexer": "ipython3",
   "version": "3.10.4"
  }
 },
 "nbformat": 4,
 "nbformat_minor": 5
}
